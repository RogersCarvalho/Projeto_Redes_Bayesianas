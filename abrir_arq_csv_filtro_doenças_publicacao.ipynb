{
 "cells": [
  {
   "cell_type": "code",
   "execution_count": 13,
   "metadata": {},
   "outputs": [],
   "source": [
    "import pandas as pd"
   ]
  },
  {
   "cell_type": "code",
   "execution_count": 14,
   "metadata": {},
   "outputs": [
    {
     "data": {
      "text/plain": [
       "(2766048, 3)"
      ]
     },
     "execution_count": 14,
     "metadata": {},
     "output_type": "execute_result"
    }
   ],
   "source": [
    "data = pd.read_csv('base_nell_novo.csv', encoding = 'UTF-8', sep=\"\\t\", usecols=['Entity','Relation','Value'])\n",
    "data.shape"
   ]
  },
  {
   "cell_type": "code",
   "execution_count": 15,
   "metadata": {},
   "outputs": [
    {
     "data": {
      "text/plain": [
       "(644894, 3)"
      ]
     },
     "execution_count": 15,
     "metadata": {},
     "output_type": "execute_result"
    }
   ],
   "source": [
    "data = data[data.Relation != \"generalizations\"]\n",
    "data.shape"
   ]
  },
  {
   "cell_type": "code",
   "execution_count": 16,
   "metadata": {},
   "outputs": [
    {
     "data": {
      "text/plain": [
       "(9397, 3)"
      ]
     },
     "execution_count": 16,
     "metadata": {},
     "output_type": "execute_result"
    }
   ],
   "source": [
    "\n",
    "#Seleciona na coluna Entity e Value os registros que possui a palavra doença (disease)\n",
    "data=data[data['Entity'].str.contains(\"disease\") | data['Value'].str.contains(\"disease\")]\n",
    "data.shape"
   ]
  },
  {
   "cell_type": "code",
   "execution_count": 17,
   "metadata": {},
   "outputs": [],
   "source": [
    "#Ordena os registros de acordo com colunas Entity, Relation e Value\n",
    "data = data.sort_values(['Entity','Relation','Value'])"
   ]
  },
  {
   "cell_type": "code",
   "execution_count": 21,
   "metadata": {},
   "outputs": [
    {
     "data": {
      "text/html": [
       "<div>\n",
       "<style scoped>\n",
       "    .dataframe tbody tr th:only-of-type {\n",
       "        vertical-align: middle;\n",
       "    }\n",
       "\n",
       "    .dataframe tbody tr th {\n",
       "        vertical-align: top;\n",
       "    }\n",
       "\n",
       "    .dataframe thead th {\n",
       "        text-align: right;\n",
       "    }\n",
       "</style>\n",
       "<table border=\"1\" class=\"dataframe\">\n",
       "  <thead>\n",
       "    <tr style=\"text-align: right;\">\n",
       "      <th></th>\n",
       "      <th>Entity</th>\n",
       "      <th>Relation</th>\n",
       "      <th>Value</th>\n",
       "    </tr>\n",
       "  </thead>\n",
       "  <tbody>\n",
       "    <tr>\n",
       "      <th>2472206</th>\n",
       "      <td>concept:disease:acne</td>\n",
       "      <td>concept:inverseofbacteriaisthecausativeagentof...</td>\n",
       "      <td>concept:bacteria:p__acnes</td>\n",
       "    </tr>\n",
       "    <tr>\n",
       "      <th>2472207</th>\n",
       "      <td>concept:disease:acne</td>\n",
       "      <td>concept:inverseofbacteriaisthecausativeagentof...</td>\n",
       "      <td>concept:bacteria:propionibacterium_acnes</td>\n",
       "    </tr>\n",
       "    <tr>\n",
       "      <th>2472811</th>\n",
       "      <td>concept:disease:actinomycosis</td>\n",
       "      <td>concept:inverseofbacteriaisthecausativeagentof...</td>\n",
       "      <td>concept:bacteria:actinomyces_israelii</td>\n",
       "    </tr>\n",
       "    <tr>\n",
       "      <th>2448041</th>\n",
       "      <td>concept:disease:acute_infectious_disease</td>\n",
       "      <td>concept:inverseofbacteriaisthecausativeagentof...</td>\n",
       "      <td>concept:bacteria:bacillus_anthracis</td>\n",
       "    </tr>\n",
       "    <tr>\n",
       "      <th>2470194</th>\n",
       "      <td>concept:disease:acute_pyelonephritis</td>\n",
       "      <td>concept:inverseofbacteriaisthecausativeagentof...</td>\n",
       "      <td>concept:bacteria:escherichia_coli</td>\n",
       "    </tr>\n",
       "    <tr>\n",
       "      <th>...</th>\n",
       "      <td>...</td>\n",
       "      <td>...</td>\n",
       "      <td>...</td>\n",
       "    </tr>\n",
       "    <tr>\n",
       "      <th>2480330</th>\n",
       "      <td>concept:physiologicalcondition:infectious_disease</td>\n",
       "      <td>concept:inverseofbacteriaisthecausativeagentof...</td>\n",
       "      <td>concept:bacteria:corynebacterium_diphtheriae</td>\n",
       "    </tr>\n",
       "    <tr>\n",
       "      <th>2480329</th>\n",
       "      <td>concept:physiologicalcondition:infectious_disease</td>\n",
       "      <td>concept:inverseofbacteriaisthecausativeagentof...</td>\n",
       "      <td>concept:bacteria:mycobacterium_leprae</td>\n",
       "    </tr>\n",
       "    <tr>\n",
       "      <th>2480332</th>\n",
       "      <td>concept:physiologicalcondition:infectious_disease</td>\n",
       "      <td>concept:inverseofbacteriaisthecausativeagentof...</td>\n",
       "      <td>concept:bacteria:mycobacterium_tuberculosis</td>\n",
       "    </tr>\n",
       "    <tr>\n",
       "      <th>2480331</th>\n",
       "      <td>concept:physiologicalcondition:infectious_disease</td>\n",
       "      <td>concept:inverseofbacteriaisthecausativeagentof...</td>\n",
       "      <td>concept:bacteria:yersinia_pestis</td>\n",
       "    </tr>\n",
       "    <tr>\n",
       "      <th>2475604</th>\n",
       "      <td>concept:physiologicalcondition:pneumococcal_di...</td>\n",
       "      <td>concept:inverseofbacteriaisthecausativeagentof...</td>\n",
       "      <td>concept:bacteria:streptococcus_pneumoniae</td>\n",
       "    </tr>\n",
       "  </tbody>\n",
       "</table>\n",
       "<p>315 rows × 3 columns</p>\n",
       "</div>"
      ],
      "text/plain": [
       "                                                    Entity  \\\n",
       "2472206                               concept:disease:acne   \n",
       "2472207                               concept:disease:acne   \n",
       "2472811                      concept:disease:actinomycosis   \n",
       "2448041           concept:disease:acute_infectious_disease   \n",
       "2470194               concept:disease:acute_pyelonephritis   \n",
       "...                                                    ...   \n",
       "2480330  concept:physiologicalcondition:infectious_disease   \n",
       "2480329  concept:physiologicalcondition:infectious_disease   \n",
       "2480332  concept:physiologicalcondition:infectious_disease   \n",
       "2480331  concept:physiologicalcondition:infectious_disease   \n",
       "2475604  concept:physiologicalcondition:pneumococcal_di...   \n",
       "\n",
       "                                                  Relation  \\\n",
       "2472206  concept:inverseofbacteriaisthecausativeagentof...   \n",
       "2472207  concept:inverseofbacteriaisthecausativeagentof...   \n",
       "2472811  concept:inverseofbacteriaisthecausativeagentof...   \n",
       "2448041  concept:inverseofbacteriaisthecausativeagentof...   \n",
       "2470194  concept:inverseofbacteriaisthecausativeagentof...   \n",
       "...                                                    ...   \n",
       "2480330  concept:inverseofbacteriaisthecausativeagentof...   \n",
       "2480329  concept:inverseofbacteriaisthecausativeagentof...   \n",
       "2480332  concept:inverseofbacteriaisthecausativeagentof...   \n",
       "2480331  concept:inverseofbacteriaisthecausativeagentof...   \n",
       "2475604  concept:inverseofbacteriaisthecausativeagentof...   \n",
       "\n",
       "                                                Value  \n",
       "2472206                     concept:bacteria:p__acnes  \n",
       "2472207      concept:bacteria:propionibacterium_acnes  \n",
       "2472811         concept:bacteria:actinomyces_israelii  \n",
       "2448041           concept:bacteria:bacillus_anthracis  \n",
       "2470194             concept:bacteria:escherichia_coli  \n",
       "...                                               ...  \n",
       "2480330  concept:bacteria:corynebacterium_diphtheriae  \n",
       "2480329         concept:bacteria:mycobacterium_leprae  \n",
       "2480332   concept:bacteria:mycobacterium_tuberculosis  \n",
       "2480331              concept:bacteria:yersinia_pestis  \n",
       "2475604     concept:bacteria:streptococcus_pneumoniae  \n",
       "\n",
       "[315 rows x 3 columns]"
      ]
     },
     "execution_count": 21,
     "metadata": {},
     "output_type": "execute_result"
    }
   ],
   "source": [
    "\n",
    "data=data[\n",
    "   \n",
    "    (data['Relation'].str.contains(\"inverseofbacteriaisthecausativeagentofphysiologicalcondition\")) |\n",
    "    (data['Relation'].str.contains(\"inverseoffooddecreasestheriskofdisease\"))  |\n",
    "    (data['Relation'].str.contains(\"inverseoffoodcancausedisease\")) |\n",
    "    (data['Relation'].str.contains(\"inverseofbeveragecansoftendisease\")) |\n",
    "    (data['Relation'].str.contains(\"sideeffectcausedbydrug\")) |\n",
    "    (data['Relation'].str.contains(\"physiologicalconditionpossiblytreatedbydrug\")) |\n",
    "    (data['Relation'].str.contains(\"inverseofdiseasecausesphysiologicalcondition\")) |\n",
    "    (data['Relation'].str.contains(\"physiologicalconditionstudedbyperson\"))  | \n",
    "    (data['Relation'].str.contains(\"bodypartwithinbodypart\")) | \n",
    "    (data['Relation'].str.contains(\"inverseofemotionassocietedwithdisease\")) | \n",
    "    (data['Relation'].str.contains(\"inverseofanimaldevelopdisease\")) \n",
    "    (data['Relation'].str.contains(\"drughassideeffect\")) |\n",
    "    (data['Relation'].str.contains(\"drugworkedonbyagent\")) |\n",
    "    (data['Relation'].str.contains(\"agriculturalproductcontainchemical\")) |\n",
    "    (data['Relation'].str.contains(\"beveragecontainsprotein\")) |\n",
    "    (data['Relation'].str.contains(\"bacteriacancauseillnessfromfood\"))  ]    \n",
    "    \n",
    "   \n",
    "#data=data2.groupby('Relation')['Relation'].size()\n",
    "#data=data[50:100]\n",
    "\n",
    "\n",
    "data\n",
    "\n"
   ]
  },
  {
   "cell_type": "code",
   "execution_count": 229,
   "metadata": {},
   "outputs": [
    {
     "data": {
      "text/plain": [
       "(826,)"
      ]
     },
     "execution_count": 229,
     "metadata": {},
     "output_type": "execute_result"
    }
   ],
   "source": [
    "data.shape"
   ]
  },
  {
   "cell_type": "code",
   "execution_count": null,
   "metadata": {},
   "outputs": [],
   "source": [
    "#valores=[1,2,3,4,...3385]\n",
    "valores = []\n",
    "#n=1\n",
    "for item in range(1,21):\n",
    "    valores.append(item)\n",
    "nova_coluna = valores\n",
    "#print(nova_coluna)\n",
    "#nova_coluna=[1,2,3,4,...3385]"
   ]
  },
  {
   "cell_type": "code",
   "execution_count": null,
   "metadata": {},
   "outputs": [],
   "source": [
    "#Criando uma nova coluna do dataframe data\n",
    "data.insert(loc=0, column= 'Mat', value= nova_coluna)\n",
    "#data"
   ]
  },
  {
   "cell_type": "code",
   "execution_count": null,
   "metadata": {},
   "outputs": [],
   "source": [
    "data = data.sort_values(['Relation'])"
   ]
  },
  {
   "cell_type": "code",
   "execution_count": null,
   "metadata": {},
   "outputs": [],
   "source": [
    "#data.set_index(['Year','Country','Medal'],drop=True).unstack('medal')\n",
    "data=data.set_index(['Mat','Entity','Relation'],drop=True).unstack('Relation')\n",
    "data"
   ]
  },
  {
   "cell_type": "code",
   "execution_count": 120,
   "metadata": {},
   "outputs": [],
   "source": [
    "data.to_csv('relacoes_disease_coluna_nomerelacao.csv')"
   ]
  },
  {
   "cell_type": "code",
   "execution_count": null,
   "metadata": {},
   "outputs": [],
   "source": []
  },
  {
   "cell_type": "code",
   "execution_count": null,
   "metadata": {},
   "outputs": [],
   "source": []
  },
  {
   "cell_type": "code",
   "execution_count": null,
   "metadata": {},
   "outputs": [],
   "source": []
  },
  {
   "cell_type": "code",
   "execution_count": null,
   "metadata": {},
   "outputs": [],
   "source": []
  },
  {
   "cell_type": "code",
   "execution_count": null,
   "metadata": {},
   "outputs": [],
   "source": []
  },
  {
   "cell_type": "code",
   "execution_count": null,
   "metadata": {},
   "outputs": [],
   "source": []
  }
 ],
 "metadata": {
  "kernelspec": {
   "display_name": "Python 3",
   "language": "python",
   "name": "python3"
  },
  "language_info": {
   "codemirror_mode": {
    "name": "ipython",
    "version": 3
   },
   "file_extension": ".py",
   "mimetype": "text/x-python",
   "name": "python",
   "nbconvert_exporter": "python",
   "pygments_lexer": "ipython3",
   "version": "3.8.8"
  }
 },
 "nbformat": 4,
 "nbformat_minor": 2
}
